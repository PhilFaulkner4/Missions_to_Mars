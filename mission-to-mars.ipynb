{
 "cells": [
  {
   "cell_type": "code",
   "execution_count": null,
   "id": "1d32eec9",
   "metadata": {},
   "outputs": [],
   "source": [
    "! pip install chromedriver"
   ]
  },
  {
   "cell_type": "code",
   "execution_count": null,
   "id": "768f1a48",
   "metadata": {},
   "outputs": [],
   "source": [
    "from bs4 import BeautifulSoup\n",
    "import requests\n",
    "import os\n",
    "from splinter import Browser"
   ]
  },
  {
   "cell_type": "code",
   "execution_count": null,
   "id": "68daa365",
   "metadata": {},
   "outputs": [],
   "source": [
    "url = 'https://mars.nasa.gov/news/?page=0&per_page=40&order=publish_date+desc%2Ccreated_at+desc&search=&category=19%2C165%2C184%2C204&blank_scope=Latest'\n",
    "print(url)\n",
    "response = requests.get(url)\n",
    "soup = BeautifulSoup(response.text, 'html.parser')"
   ]
  },
  {
   "cell_type": "code",
   "execution_count": null,
   "id": "a41bdc63",
   "metadata": {},
   "outputs": [],
   "source": [
    "# Examine the results, then determine element that contains sought info\n",
    "print(soup.prettify())"
   ]
  },
  {
   "cell_type": "code",
   "execution_count": null,
   "id": "9636fa6f",
   "metadata": {},
   "outputs": [],
   "source": [
    "# results are returned as an iterable list\n",
    "results = soup.find_all('div', class_=\"slide\")\n",
    "results"
   ]
  },
  {
   "cell_type": "code",
   "execution_count": null,
   "id": "9f1a1b7f",
   "metadata": {},
   "outputs": [],
   "source": [
    "news_title = soup.find('div', class_='content_title').find('a').text\n",
    "news_title.replace(\"\\n\",\"\")\n",
    "print(f\"news_title = {news_title}\")\n",
    "\n",
    "news_p = soup.find('div', attrs = {'class':'rollover_description_inner'}).text\n",
    "print(f\"news_p = {news_p}\")\n",
    "# results = soup.find('div', attrs={'class':'description'}).text"
   ]
  },
  {
   "cell_type": "code",
   "execution_count": null,
   "id": "42bd558e",
   "metadata": {},
   "outputs": [],
   "source": [
    "!which chromedriver"
   ]
  },
  {
   "cell_type": "code",
   "execution_count": null,
   "id": "3dfd2afe",
   "metadata": {},
   "outputs": [],
   "source": [
    "executable_path = {'executable_path': '/usr/local/bin/chromedriver'}\n",
    "browser = Browser('chrome', **executable_path, headless=False)"
   ]
  },
  {
   "cell_type": "code",
   "execution_count": null,
   "id": "f80a1bdd",
   "metadata": {},
   "outputs": [],
   "source": [
    "url = 'https://www.jpl.nasa.gov/spaceimages/?search=&category=Mars'\n",
    "browser.visit(url)"
   ]
  },
  {
   "cell_type": "code",
   "execution_count": null,
   "id": "28824121",
   "metadata": {},
   "outputs": [],
   "source": [
    "html = browser.html   \n",
    "soup = BeautifulSoup(html,'html.parser')\n",
    "\n",
    "# Click on Full Image\n",
    "browser.click_link_by_partial_text('FULL IMAGE')\n",
    "print(browser.click_link_by_partial_text('FULL IMAGE'))"
   ]
  },
  {
   "cell_type": "code",
   "execution_count": null,
   "id": "71729758",
   "metadata": {},
   "outputs": [],
   "source": [
    "# This code is a result of browser.click_link_by_partial_text does not work in python. \n",
    "html = browser.html\n",
    "soup = BeautifulSoup(html, 'html.parser')\n",
    "result = soup.find('div', id='fancybox-lock')\n",
    "# print(result)\n",
    "div = result.find('div', class_='buttons')\n",
    "# link = div.find('a', class_='addthis_button_compact')\n",
    "more_info = div.find('a', class_='button')['href']\n",
    "# print(link)\n",
    "# print(more_info)\n",
    "# print(div)\n",
    "link = ('https://www.jpl.nasa.gov'+ more_info)\n",
    "browser.visit(link)\n",
    "html = browser.html\n",
    "# soup = BeautifulSoup(html, 'html.parser')\n",
    "print(link)"
   ]
  },
  {
   "cell_type": "code",
   "execution_count": null,
   "id": "fb5d8384",
   "metadata": {},
   "outputs": [],
   "source": [
    "html = browser.html   \n",
    "soup = BeautifulSoup(html, 'html.parser')\n",
    "\n",
    "image_source = soup.find(\"figure\", class_=\"lede\")\n",
    "\n",
    "link = image_source.find('a')\n",
    "\n",
    "href = link['href']\n",
    "# print(image_source)\n",
    "print(href)\n",
    "\n",
    "featured_image_url = ('https://www.jpl.nasa.gov' + href)\n",
    "\n",
    "print(featured_image_url)"
   ]
  },
  {
   "cell_type": "code",
   "execution_count": null,
   "id": "483fa4df",
   "metadata": {},
   "outputs": [],
   "source": [
    "\n",
    "import pandas as pd"
   ]
  },
  {
   "cell_type": "code",
   "execution_count": null,
   "id": "5e18759a",
   "metadata": {},
   "outputs": [],
   "source": [
    "url =\"https://space-facts.com/mars/\"\n",
    "\n",
    "table = pd.read_html(url)\n",
    "table\n",
    "df = table[0]\n",
    "print(url)"
   ]
  },
  {
   "cell_type": "code",
   "execution_count": null,
   "id": "3e271778",
   "metadata": {},
   "outputs": [],
   "source": [
    "df.columns = [\"Description\", \"Values\"]\n",
    "# df = df.set_index('Description')\n",
    "df"
   ]
  },
  {
   "cell_type": "code",
   "execution_count": null,
   "id": "8e50ef4a",
   "metadata": {},
   "outputs": [],
   "source": [
    "html_table = df.to_html()\n",
    "html_table"
   ]
  },
  {
   "cell_type": "code",
   "execution_count": null,
   "id": "662f4bbf",
   "metadata": {},
   "outputs": [],
   "source": [
    "html_table.replace('\\n', '')"
   ]
  },
  {
   "cell_type": "code",
   "execution_count": null,
   "id": "36ea2919",
   "metadata": {},
   "outputs": [],
   "source": [
    "print(html_table)"
   ]
  },
  {
   "cell_type": "code",
   "execution_count": null,
   "id": "cd835bbb",
   "metadata": {},
   "outputs": [],
   "source": []
  },
  {
   "cell_type": "code",
   "execution_count": null,
   "id": "f5cbb3d9",
   "metadata": {},
   "outputs": [],
   "source": [
    "\n",
    "executable_path = {'executable_path': '/usr/local/bin/chromedriver'}\n",
    "browser = Browser('chrome', **executable_path, headless=False)\n",
    "\n",
    "url = 'https://astrogeology.usgs.gov/search/results?q=hemisphere+enhanced&k1=target&v1=Mars'\n",
    "browser.visit(url)\n",
    "html = browser.html\n",
    "\n",
    "soup = BeautifulSoup(html, 'html.parser')"
   ]
  },
  {
   "cell_type": "code",
   "execution_count": null,
   "id": "c38a5f68",
   "metadata": {},
   "outputs": [],
   "source": [
    "html = browser.html   \n",
    "soup = BeautifulSoup(html, 'html.parser')\n",
    "\n",
    "results = soup.find_all('div', class_='item')\n",
    "# results = soup.find('div', attrs={'class':'description'}).text\n",
    "\n",
    "print(results)"
   ]
  },
  {
   "cell_type": "code",
   "execution_count": null,
   "id": "05be1c2a",
   "metadata": {},
   "outputs": [],
   "source": [
    "html = browser.html   \n",
    "soup = BeautifulSoup(html,'html.parser')"
   ]
  },
  {
   "cell_type": "code",
   "execution_count": null,
   "id": "e35e75b0",
   "metadata": {},
   "outputs": [],
   "source": [
    "# Create a dictionary to later append to\n",
    "mars_dictionary = []\n",
    "\n",
    "# Iterate through each page\n",
    "for result in results:\n",
    "#     Get the title\n",
    "    title = result.h3.text\n",
    "    title = title.replace (\"Enhanced\",\"\")\n",
    "    \n",
    "#     Find the link & create the link\n",
    "    href = result.find('a')['href']\n",
    "    base_url = \"https://astrogeology.usgs.gov\"\n",
    "    image_link = base_url + href\n",
    "    \n",
    "#     Click on each link\n",
    "    browser.visit(image_link)\n",
    "    html = browser.html\n",
    "    soup = BeautifulSoup(html, 'html.parser')\n",
    "    \n",
    "#     Get the image_url\n",
    "    downloads = soup.find('div', class_ = \"downloads\")\n",
    "    image_url = downloads.find('a')['href']\n",
    "    \n",
    "#     Append to dictionary\n",
    "    mars_dictionary.append({\"title\": title, \"img_url\": image_url})\n",
    "    \n",
    "print(mars_dictionary)"
   ]
  }
 ],
 "metadata": {
  "kernelspec": {
   "display_name": "Python 3",
   "language": "python",
   "name": "python3"
  },
  "language_info": {
   "codemirror_mode": {
    "name": "ipython",
    "version": 3
   },
   "file_extension": ".py",
   "mimetype": "text/x-python",
   "name": "python",
   "nbconvert_exporter": "python",
   "pygments_lexer": "ipython3",
   "version": "3.6.10"
  }
 },
 "nbformat": 4,
 "nbformat_minor": 5
}
